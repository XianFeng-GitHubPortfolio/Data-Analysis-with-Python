{
 "cells": [
  {
   "cell_type": "markdown",
   "metadata": {},
   "source": [
    "# Profitable App Profiles for the App Store and Google Play Markets \n",
    "\n",
    "### Introduction\n",
    "\n",
    "For this project, we will assume the role of a data analyst at a company that builds Android and iOS apps for an English speaking audience. The apps built are available on both Google Play and the App Store. The company only builds apps that are free to download and install, and their main source of revenue consists of in-app advertisements. Thus, their revenue is greatly influenced by the number of users who use their apps. \n",
    "\n",
    "The goal of this project is to analyze the follow datasets — [googleplaystore.csv](https://www.kaggle.com/lava18/google-play-store-apps) and [AppleStore.csv](https://www.kaggle.com/ramamet4/app-store-apple-data-set-10k-apps) — to help the company's developers understand what type of apps are likely to attract more users. "
   ]
  },
  {
   "cell_type": "markdown",
   "metadata": {},
   "source": [
    "### Step 1: Opening and exploring the data \n",
    "\n",
    "Before we can begin the data analysis process, we must import the desired datasets and explore them a little.\n",
    "\n",
    "We first open the two appropriate data sets and save both as lists of lists. Next, we define a function that lets us explore our datasets. The functions takes in 4 parameters and outputs a slice of the dataset as desired. It can also optionally tell us the number of rows and columns the dataset has."
   ]
  },
  {
   "cell_type": "code",
   "execution_count": 1,
   "metadata": {},
   "outputs": [],
   "source": [
    "from csv import reader\n",
    "\n",
    "# The App Store data \n",
    "opened_file1 = open('AppleStore.csv', encoding='utf8')\n",
    "read_file1 = reader(opened_file1)\n",
    "ios = list(read_file1)\n",
    "ios_header = ios[0]\n",
    "ios_data = ios[1:]\n",
    "\n",
    "# The Google Play data\n",
    "opened_file2 = open('googleplaystore.csv', encoding='utf8')\n",
    "read_file2 = reader(opened_file2)\n",
    "android = list(read_file2)\n",
    "android_header = android[0]\n",
    "android_data = android[1:]\n",
    "\n",
    "# Define a function that lets you explore the datasets\n",
    "def explore_data(dataset, start, end, rows_columns_counter = False):\n",
    "    dataset_slice = dataset[start:end]\n",
    "    for row in dataset_slice:\n",
    "        if row == dataset_slice[-1]:\n",
    "            print(row)\n",
    "            print('\\n')\n",
    "            print('That was the last row in the slice')\n",
    "            print('\\n')\n",
    "        else:\n",
    "            print(row)\n",
    "            print('\\n')\n",
    "        \n",
    "    if rows_columns_counter == True:\n",
    "        print('Number of rows:', len(dataset))\n",
    "        print('Number of columns:', len(dataset[0]))"
   ]
  },
  {
   "cell_type": "code",
   "execution_count": 2,
   "metadata": {
    "scrolled": true
   },
   "outputs": [
    {
     "name": "stdout",
     "output_type": "stream",
     "text": [
      "['App', 'Category', 'Rating', 'Reviews', 'Size', 'Installs', 'Type', 'Price', 'Content Rating', 'Genres', 'Last Updated', 'Current Ver', 'Android Ver']\n",
      "\n",
      "\n",
      "['Photo Editor & Candy Camera & Grid & ScrapBook', 'ART_AND_DESIGN', '4.1', '159', '19M', '10,000+', 'Free', '0', 'Everyone', 'Art & Design', '7-Jan-18', '1.0.0', '4.0.3 and up']\n",
      "\n",
      "\n",
      "That was the last row in the slice\n",
      "\n",
      "\n",
      "Number of rows: 10841\n",
      "Number of columns: 13\n"
     ]
    }
   ],
   "source": [
    "print(android_header)\n",
    "print('\\n')\n",
    "explore_data(android_data, 0, 1, True)"
   ]
  },
  {
   "cell_type": "markdown",
   "metadata": {},
   "source": [
    "Column descriptors for the Android mobile app dataset:\n",
    "\n",
    "|Heading        |Definition                      \n",
    "|:--            |:--                      \n",
    "|App            |Applicantion Name        \n",
    "|Category       |Category                 \n",
    "|Rating         |User Rating              \n",
    "|Reviews        |User Rating Count        \n",
    "|Size           |Size(in Megabytes)                 \n",
    "|Installs       |Number of downloads                \n",
    "|Type           |Paid or Free                      \n",
    "|Price          |Price                              \n",
    "|Content Rating |Target Age Group                   \n",
    "|Genres         |Genres                             \n",
    "|Last Updated   |Last Update(when scraped)          \n",
    "|Current Ver    |Current Version                    \n",
    "|Android Ver    |Minimum Required Version of Android"
   ]
  },
  {
   "cell_type": "markdown",
   "metadata": {},
   "source": [
    "We see that the Google Play data set has a total of 10841 apps (10842 rows) and 13 columns. The columns that might be useful for the purpose of our analysis are `App`, `Category`, `Reviews`, `Installs`, `Price`, and `Genres`."
   ]
  },
  {
   "cell_type": "code",
   "execution_count": 3,
   "metadata": {},
   "outputs": [
    {
     "name": "stdout",
     "output_type": "stream",
     "text": [
      "['id', 'track_name', 'size_bytes', 'currency', 'price', 'rating_count_tot', 'rating_count_ver', 'user_rating', 'user_rating_ver', 'ver', 'cont_rating', 'prime_genre', 'sup_devices.num', 'ipadSc_urls.num', 'lang.num', 'vpp_lic']\n",
      "\n",
      "\n",
      "['284882215', 'Facebook', '389879808', 'USD', '0', '2974676', '212', '3.5', '3.5', '95', '4+', 'Social Networking', '37', '1', '29', '1']\n",
      "\n",
      "\n",
      "That was the last row in the slice\n",
      "\n",
      "\n",
      "Number of rows: 7197\n",
      "Number of columns: 16\n"
     ]
    }
   ],
   "source": [
    "print(ios_header)\n",
    "print('\\n')\n",
    "explore_data(ios_data, 0, 1, True)"
   ]
  },
  {
   "cell_type": "markdown",
   "metadata": {},
   "source": [
    "Column descriptors for the iOS mobile app dataset:\n",
    "\n",
    "|Heading         |Definition                         |\n",
    "|:--             |:--                                |\n",
    "|id              |App ID                             |\n",
    "|track_name      |App Name                           |\n",
    "|size_bites      |Size(in Bytes)                     |\n",
    "|currency        |Currency Type                      |\n",
    "|price           |Price                              |\n",
    "|rating_count_tot|User Rating Count (all versions)   |\n",
    "|rating_count_ver|User Rating Count (current version)|\n",
    "|user_rating     |Avg User Rating (all versions)     |\n",
    "|user_rating_ver |Avg User Rating (current version)\n",
    "|ver             |Lastest Version Code\n",
    "|cont_rating     |Content Rating\n",
    "|prime_genre     |Primary Genre\n",
    "|sup_device.num  |Number of supporting devices\n",
    "|ipadSc_urls.num |Number of Screenshots Shown for Display\n",
    "|lang.num        |Number of Supported Languages\n",
    "|vpp_lic         |Vpp Device Based Licensing Available"
   ]
  },
  {
   "cell_type": "markdown",
   "metadata": {},
   "source": [
    "We see that the App Store dataset has a total of 7197 apps (7198 rows) and 16 columns. The columns that might be useful for the purpose of our analysis are `track_name`, `price`, `rating_count_tot`, and `prime_genre`.  "
   ]
  },
  {
   "cell_type": "markdown",
   "metadata": {},
   "source": [
    "### Step 2: Removing inaccurate data\n",
    "\n",
    "Data integrity is vital in providing sound conclusions in any data analysis. Thus, it it important to check your data for inconsistencies or errors and correct them as needed. "
   ]
  },
  {
   "cell_type": "markdown",
   "metadata": {},
   "source": [
    "First, we try and detect inaccurrate data, and then remove these entries.\n",
    "\n",
    "According to the discussion board on kaggle, entry 10472 in the Google Play dataset has a rating of 19 stars (out of 5 stars). This is because entry 10472 is missing data in the Category column and thus each column was shifted one column to the left. "
   ]
  },
  {
   "cell_type": "code",
   "execution_count": 4,
   "metadata": {},
   "outputs": [
    {
     "name": "stdout",
     "output_type": "stream",
     "text": [
      "['Life Made WI-Fi Touchscreen Photo Frame', '1.9', '19', '3.0M', '1,000+', 'Free', '0', 'Everyone', '', '11-Feb-18', '1.0.19', '4.0 and up', '']\n",
      "\n",
      "\n",
      "['App', 'Category', 'Rating', 'Reviews', 'Size', 'Installs', 'Type', 'Price', 'Content Rating', 'Genres', 'Last Updated', 'Current Ver', 'Android Ver']\n"
     ]
    }
   ],
   "source": [
    "print(android_data[10472])\n",
    "print('\\n')\n",
    "print(android_header)"
   ]
  },
  {
   "cell_type": "code",
   "execution_count": 5,
   "metadata": {},
   "outputs": [
    {
     "name": "stdout",
     "output_type": "stream",
     "text": [
      "10841\n",
      "10840\n"
     ]
    }
   ],
   "source": [
    "print(len(android_data))\n",
    "del(android_data[10472])\n",
    "print(len(android_data))"
   ]
  },
  {
   "cell_type": "markdown",
   "metadata": {},
   "source": [
    "We have successfully removed entry 10472 in the Google Play dataset. "
   ]
  },
  {
   "cell_type": "code",
   "execution_count": 6,
   "metadata": {},
   "outputs": [
    {
     "name": "stdout",
     "output_type": "stream",
     "text": [
      "Google Play dataset\n",
      "There are 0 rows that have missing or additonal columns.\n",
      "\n",
      "\n",
      "App Store dataset\n",
      "There are 0 rows that have missing or additonal columns.\n"
     ]
    }
   ],
   "source": [
    "def inaccurate_data(dataset_header, dataset):\n",
    "    inaccurate_rows = []\n",
    "    for row in dataset:\n",
    "        if len(row) != len(dataset_header):\n",
    "            inaccurate_rows.append(row)\n",
    "    \n",
    "    print('There are',len(inaccurate_rows), 'rows that have missing or additonal columns.')\n",
    "\n",
    "print('Google Play dataset')\n",
    "inaccurate_data(android_header, android_data)\n",
    "print('\\n')\n",
    "print('App Store dataset')\n",
    "inaccurate_data(ios_header, ios_data)"
   ]
  },
  {
   "cell_type": "markdown",
   "metadata": {},
   "source": [
    "Above, we verified there are no other rows in either datasets with missing or additonal entries."
   ]
  },
  {
   "cell_type": "markdown",
   "metadata": {},
   "source": [
    "### Step 3: Removing duplicates"
   ]
  },
  {
   "cell_type": "markdown",
   "metadata": {},
   "source": [
    "Duplicate entries will often skew or inflate the results of an analysis. We continue the data cleaning process by checking and removing existing duplicates in the Google Play dataset."
   ]
  },
  {
   "cell_type": "code",
   "execution_count": 7,
   "metadata": {},
   "outputs": [
    {
     "name": "stdout",
     "output_type": "stream",
     "text": [
      "Number of apps in the Google Play dataset: 10840\n",
      "Number of unique apps: 9659\n",
      "Number of duplicate apps: 1181\n",
      "\n",
      "\n",
      "Examples of duplicate apps: ['Quick PDF Scanner + OCR FREE', 'Box', 'Google My Business', 'ZOOM Cloud Meetings', 'join.me - Simple Meetings', 'Box', 'Zenefits', 'Google Ads', 'Google My Business', 'Slack']\n"
     ]
    }
   ],
   "source": [
    "unique_apps = []\n",
    "duplicate_apps = []\n",
    "\n",
    "for app in android_data:\n",
    "    app_name = app[0] \n",
    "    if app_name in unique_apps:\n",
    "        duplicate_apps.append(app_name)\n",
    "    else:\n",
    "        unique_apps.append(app_name)\n",
    "        \n",
    "print('Number of apps in the Google Play dataset:', len(android_data))\n",
    "print('Number of unique apps:', len(unique_apps))\n",
    "print('Number of duplicate apps:', len(duplicate_apps))\n",
    "print('\\n')\n",
    "print('Examples of duplicate apps:', duplicate_apps[:10])"
   ]
  },
  {
   "cell_type": "markdown",
   "metadata": {},
   "source": [
    "Before we remove the duplicate entries, let us further investigate an app that has multiple entries in our dataset — Instagram. "
   ]
  },
  {
   "cell_type": "code",
   "execution_count": 8,
   "metadata": {},
   "outputs": [
    {
     "name": "stdout",
     "output_type": "stream",
     "text": [
      "['Instagram', 'SOCIAL', '4.5', '66577313', 'Varies with device', '1,000,000,000+', 'Free', '0', 'Teen', 'Social', '31-Jul-18', 'Varies with device', 'Varies with device']\n",
      "['Instagram', 'SOCIAL', '4.5', '66577446', 'Varies with device', '1,000,000,000+', 'Free', '0', 'Teen', 'Social', '31-Jul-18', 'Varies with device', 'Varies with device']\n",
      "['Instagram', 'SOCIAL', '4.5', '66577313', 'Varies with device', '1,000,000,000+', 'Free', '0', 'Teen', 'Social', '31-Jul-18', 'Varies with device', 'Varies with device']\n",
      "['Instagram', 'SOCIAL', '4.5', '66509917', 'Varies with device', '1,000,000,000+', 'Free', '0', 'Teen', 'Social', '31-Jul-18', 'Varies with device', 'Varies with device']\n"
     ]
    }
   ],
   "source": [
    "for app in android_data:\n",
    "    app_name = app[0] \n",
    "    if app_name == 'Instagram':\n",
    "        print(app)"
   ]
  },
  {
   "cell_type": "markdown",
   "metadata": {},
   "source": [
    "We see that the duplicate entries of the app, Instagram, differs only in the number of reviews received. To obtain an accurate analysis, we should only keep the entry of Instagram which has the highest number of reviews since it is logically the most recent entry. "
   ]
  },
  {
   "cell_type": "code",
   "execution_count": 9,
   "metadata": {},
   "outputs": [
    {
     "name": "stdout",
     "output_type": "stream",
     "text": [
      "9659\n"
     ]
    }
   ],
   "source": [
    "reviews_max = {}\n",
    "\n",
    "for app in android_data:\n",
    "    app_name = app[0]\n",
    "    n_reviews = float(app[3])\n",
    "    \n",
    "    if app_name in reviews_max and reviews_max[app_name] < n_reviews:\n",
    "        reviews_max[app_name]  = n_reviews\n",
    "    elif app_name not in reviews_max: \n",
    "        reviews_max[app_name] = n_reviews\n",
    "\n",
    "print(len(reviews_max))"
   ]
  },
  {
   "cell_type": "markdown",
   "metadata": {},
   "source": [
    "We create a dictionary where each key is a unique app name and the corresponding dictionary value is the hight number of reviews for that app. We previously identified there were a total of 9659 unique apps. We verified that the length of our dictionary is the same as the number of unique apps in our dataset.  "
   ]
  },
  {
   "cell_type": "code",
   "execution_count": 10,
   "metadata": {},
   "outputs": [
    {
     "name": "stdout",
     "output_type": "stream",
     "text": [
      "9659\n"
     ]
    }
   ],
   "source": [
    "android_clean = []\n",
    "already_added = []\n",
    "\n",
    "for app in android_data:\n",
    "    app_name = app[0]\n",
    "    n_reviews = float(app[3])\n",
    "    \n",
    "    if n_reviews == reviews_max[app_name] and app_name not in already_added:\n",
    "        android_clean.append(app)\n",
    "        already_added.append(app_name)\n",
    "        \n",
    "print(len(android_clean))"
   ]
  },
  {
   "cell_type": "markdown",
   "metadata": {},
   "source": [
    "Now we begin the process of removing duplicates. \n",
    "\n",
    "We start by initializing two empty lists, the android_clean list to store unique apps, and the already_added list to keep track of apps that we have already accounted for.  \n",
    "\n",
    "We loop through the android data set, and for every iteration:\n",
    "* We add the current row (app) to the android_clean list, and the app name (name) to the already_added list if:\n",
    " + The number of reviews of the current app matches the maximum number of reviews of that app as described in the reviews_max dictionary; and\n",
    " + The name of the app is not already in the already_added list. We need to add this supplementary condition to account for those cases where the highest number of reviews of a duplicate app is the same for more than one entry (for example, the Box app has three entries, and the number of reviews is the same). If we just check for reviews_max[name] == n_reviews, we'll still end up with duplicate entries for some apps.\n",
    " \n",
    "Once again, we verified that the length of our list of clean data is equal to 9569, the number of unique apps in our dataset. "
   ]
  },
  {
   "cell_type": "code",
   "execution_count": 11,
   "metadata": {},
   "outputs": [
    {
     "name": "stdout",
     "output_type": "stream",
     "text": [
      "Number of apps in the App Store dataset: 7197\n",
      "\n",
      "\n",
      "Number of unique apps: 7197\n"
     ]
    }
   ],
   "source": [
    "unique_apps = []\n",
    "duplicate_apps = []\n",
    "\n",
    "for app in ios_data:\n",
    "    app_name = app[0] \n",
    "    if app_name in unique_apps:\n",
    "        duplicate_apps.append(app_name)\n",
    "    else:\n",
    "        unique_apps.append(app_name)\n",
    "        \n",
    "print('Number of apps in the App Store dataset:', len(ios_data))\n",
    "print('\\n')\n",
    "print('Number of unique apps:', len(unique_apps))"
   ]
  },
  {
   "cell_type": "markdown",
   "metadata": {},
   "source": [
    "According to the results in the above code cell, the App Store dataset only contain unqie entries. Thus, there is no need to remove duplicates. "
   ]
  },
  {
   "cell_type": "markdown",
   "metadata": {},
   "source": [
    "### Step 3: Removing Non-English Apps\n",
    "\n",
    "Because the company only produces free apps intended for an English speaking audience, we should remove non-English apps from our data. This usually entails apps that do not contain English characters only such as 'Instachat 😜', or '爱奇艺PPS -《欢乐颂2》电视剧热播'. \n",
    "\n",
    "English text characters all have a value in the range of 0 to 127 according to the ASCII system. Thus, we should remove apps that have chracter values outside the range 0 to 127. We can easily identify the ASCII value of a character using the built-in function ord(). "
   ]
  },
  {
   "cell_type": "code",
   "execution_count": 12,
   "metadata": {},
   "outputs": [
    {
     "name": "stdout",
     "output_type": "stream",
     "text": [
      "Examples of non-English apps:\n",
      "\n",
      "\n",
      "['AutoScout24 Switzerland – Find your new car', 'AUTO_AND_VEHICLES', '4.6', '13372', 'Varies with device', '1,000,000+', 'Free', '0', 'Everyone', 'Auto & Vehicles', '3-Aug-18', 'Varies with device', 'Varies with device']\n",
      "\n",
      "\n",
      "['Zona Azul Digital Fácil SP CET - OFFICIAL São Paulo', 'AUTO_AND_VEHICLES', '4.6', '7880', 'Varies with device', '100,000+', 'Free', '0', 'Everyone', 'Auto & Vehicles', '10-May-18', '4.6.5', 'Varies with device']\n",
      "\n",
      "\n",
      "['Docs To Go™ Free Office Suite', 'BUSINESS', '4.1', '217730', 'Varies with device', '50,000,000+', 'Free', '0', 'Everyone', 'Business', '2-Apr-18', 'Varies with device', 'Varies with device']\n"
     ]
    }
   ],
   "source": [
    "non_english = []\n",
    "\n",
    "for app in android_clean:\n",
    "    for character in app[0]:\n",
    "        if ord(character) > 127:\n",
    "            non_english.append(app)\n",
    "            \n",
    "print('Examples of non-English apps:')\n",
    "print('\\n')\n",
    "print(non_english[2])\n",
    "print('\\n')\n",
    "print(non_english[3])\n",
    "print('\\n')\n",
    "print(non_english[6])"
   ]
  },
  {
   "cell_type": "markdown",
   "metadata": {},
   "source": [
    "According to the code cell above, it seems that removing apps whose names contain character values outside the range of 0 to 127 may also remove apps that are actually intended for an English speaking audience. This is due to special characters (™, — (em dash), – (en dash), etc.) or emojis in some English app names that fall outside of the English text ASCII range. \n",
    "\n",
    "To minimize the impact of data loss, we will increase the threshold for special characters and will only remove an app if its name has more than three characters whose ASCII values fall outside the English text range."
   ]
  },
  {
   "cell_type": "code",
   "execution_count": 13,
   "metadata": {},
   "outputs": [
    {
     "name": "stdout",
     "output_type": "stream",
     "text": [
      "True\n",
      "False\n",
      "True\n"
     ]
    }
   ],
   "source": [
    "def english_app(a_string):\n",
    "    non_ascii = 0    \n",
    "    \n",
    "    for character in a_string:\n",
    "        value = ord(character)\n",
    "        if value > 127:\n",
    "            non_ascii += 1 \n",
    "        \n",
    "    if non_ascii > 3:\n",
    "        return False         \n",
    "    else:\n",
    "        return True \n",
    "            \n",
    "print(english_app('Instagram'))\n",
    "print(english_app('爱奇艺PPS -《欢乐颂2》电视剧热播'))\n",
    "print(english_app('Instachat 😜'))"
   ]
  },
  {
   "cell_type": "markdown",
   "metadata": {},
   "source": [
    "Though the the function written above to filter out non-English apps has not yet been fully optimized, it will suffice for the time being. "
   ]
  },
  {
   "cell_type": "code",
   "execution_count": 14,
   "metadata": {},
   "outputs": [
    {
     "name": "stdout",
     "output_type": "stream",
     "text": [
      "['284882215', 'Facebook', '389879808', 'USD', '0', '2974676', '212', '3.5', '3.5', '95', '4+', 'Social Networking', '37', '1', '29', '1']\n",
      "\n",
      "\n",
      "That was the last row in the slice\n",
      "\n",
      "\n",
      "Number of rows: 6183\n",
      "Number of columns: 16\n",
      "\n",
      "\n",
      "['Photo Editor & Candy Camera & Grid & ScrapBook', 'ART_AND_DESIGN', '4.1', '159', '19M', '10,000+', 'Free', '0', 'Everyone', 'Art & Design', '7-Jan-18', '1.0.0', '4.0.3 and up']\n",
      "\n",
      "\n",
      "That was the last row in the slice\n",
      "\n",
      "\n",
      "Number of rows: 9614\n",
      "Number of columns: 13\n"
     ]
    }
   ],
   "source": [
    "ios_english_clean = []\n",
    "android_english_clean = []\n",
    "\n",
    "for app in ios_data:\n",
    "    if english_app(app[1]) == True:\n",
    "        ios_english_clean.append(app)\n",
    "\n",
    "for app in android_clean:\n",
    "    if english_app(app[0]) == True:\n",
    "        android_english_clean.append(app)\n",
    "        \n",
    "explore_data(ios_english_clean, 0, 1, True)\n",
    "print('\\n')\n",
    "explore_data(android_english_clean, 0, 1, True)"
   ]
  },
  {
   "cell_type": "markdown",
   "metadata": {},
   "source": [
    "We used the `english_app` function to filter out the non-English apps from both our datasets without duplicates. We are left with 6183 iOS apps and 9614 Android apps.  "
   ]
  },
  {
   "cell_type": "markdown",
   "metadata": {},
   "source": [
    "### Step 4: Isolate Free Apps\n",
    "\n",
    "Thus far in the data cleaning process, we have removed inaccurate data, duplicate app entries and apps not intended for English speakers. Since we are interested in analyzing what type of free apps consumner would be most interested in, the last step in our data cleaning process is to isolate free apps in our datasets. "
   ]
  },
  {
   "cell_type": "code",
   "execution_count": 15,
   "metadata": {},
   "outputs": [
    {
     "name": "stdout",
     "output_type": "stream",
     "text": [
      "8864\n",
      "3222\n"
     ]
    }
   ],
   "source": [
    "android_final = []\n",
    "ios_final = []\n",
    "\n",
    "\n",
    "for app in android_english_clean:\n",
    "    if app[7] == '0':\n",
    "        android_final.append(app)\n",
    "\n",
    "for app in ios_english_clean:\n",
    "    if app[4] == '0':\n",
    "        ios_final.append(app)\n",
    "\n",
    "print(len(android_final))\n",
    "print(len(ios_final))"
   ]
  },
  {
   "cell_type": "markdown",
   "metadata": {},
   "source": [
    "There are 8864 Android apps and 3222 iOS apps that are free and intended for English speakers in our datasets.  "
   ]
  },
  {
   "cell_type": "markdown",
   "metadata": {},
   "source": [
    "### Step 5: Most Common App by Genre\n",
    "\n",
    "In order to minimize risks and overheads, the company has a 3 step validation strategy for releasing an app. The company wants to build a minimal version of an application for the Android environment initially. If the app is well received based on user response, it will further develop and release a refined version. After six months of profitability on the Andorid market, an iOS version of the app will be built and released on the App Store.  \n",
    "\n",
    "Naturally, the next step in our data analysis process is to find app profiles that are successful on both the Android and iOS market. We begin by investigating what are the most common genres for each market via frequency tables. "
   ]
  },
  {
   "cell_type": "code",
   "execution_count": 16,
   "metadata": {},
   "outputs": [],
   "source": [
    "def freq_table(dataset, index):\n",
    "    dictionary = {}\n",
    "    total = 0 \n",
    "    \n",
    "    for app in dataset:\n",
    "        total += 1\n",
    "        value = app[index]\n",
    "        \n",
    "        if value in dictionary:\n",
    "            dictionary[value] += 1\n",
    "        else: \n",
    "            dictionary[value] = 1\n",
    "    \n",
    "    dictionary_percent = {}\n",
    "    for key in dictionary:\n",
    "        dictionary_percent[key] = round((dictionary[key]/total)*100,2)\n",
    "    \n",
    "    return dictionary_percent\n",
    "        \n",
    "    \n",
    "def display_table(dataset, index):\n",
    "    table = freq_table(dataset, index)\n",
    "    table_display = []\n",
    "    for key in table:\n",
    "        key_val_as_tuple = (table[key], key)\n",
    "        table_display.append(key_val_as_tuple)\n",
    "        \n",
    "    table_sorted = sorted(table_display, reverse = True)\n",
    "    for entry in table_sorted:\n",
    "        print(entry[1], ':', entry[0])"
   ]
  },
  {
   "cell_type": "markdown",
   "metadata": {},
   "source": [
    "We defined a function called ```freq_table``` that takes in a dataset and an index of the dataset as inputs. The function returns a frequency table (expressed as percentages), in the form of a dictionary for the column, that corresponds to the index entered. The resulting frequency table of percentages is then displayed in descending order. "
   ]
  },
  {
   "cell_type": "code",
   "execution_count": 17,
   "metadata": {},
   "outputs": [
    {
     "name": "stdout",
     "output_type": "stream",
     "text": [
      "Games : 58.16\n",
      "Entertainment : 7.88\n",
      "Photo & Video : 4.97\n",
      "Education : 3.66\n",
      "Social Networking : 3.29\n",
      "Shopping : 2.61\n",
      "Utilities : 2.51\n",
      "Sports : 2.14\n",
      "Music : 2.05\n",
      "Health & Fitness : 2.02\n",
      "Productivity : 1.74\n",
      "Lifestyle : 1.58\n",
      "News : 1.33\n",
      "Travel : 1.24\n",
      "Finance : 1.12\n",
      "Weather : 0.87\n",
      "Food & Drink : 0.81\n",
      "Reference : 0.56\n",
      "Business : 0.53\n",
      "Book : 0.43\n",
      "Navigation : 0.19\n",
      "Medical : 0.19\n",
      "Catalogs : 0.12\n"
     ]
    }
   ],
   "source": [
    "display_table(ios_final, -5) #iOS Prime Genre"
   ]
  },
  {
   "cell_type": "markdown",
   "metadata": {},
   "source": [
    "Upon examining the frequency table for the ```prime_genre``` column of the App Store dataset, in terms of free English apps, the App Store has a high concentration of apps designed for fun and entertainment (Games, Entertainment, Photo & Video, Social Networking, Sports, Music, etc.), while apps intended for practical purposes (Education, Shopping, Utilities, Health & Fitness, etc.) have a lower concentration. \n",
    "\n",
    "However, this picture painted by the frequency table may be a bit misleading. The saturation of a certain type of app being offered does not neccesarily equate to a comparable level of demand from consumers. "
   ]
  },
  {
   "cell_type": "code",
   "execution_count": 18,
   "metadata": {},
   "outputs": [
    {
     "name": "stdout",
     "output_type": "stream",
     "text": [
      "FAMILY : 18.91\n",
      "GAME : 9.72\n",
      "TOOLS : 8.46\n",
      "BUSINESS : 4.59\n",
      "LIFESTYLE : 3.9\n",
      "PRODUCTIVITY : 3.89\n",
      "FINANCE : 3.7\n",
      "MEDICAL : 3.53\n",
      "SPORTS : 3.4\n",
      "PERSONALIZATION : 3.32\n",
      "COMMUNICATION : 3.24\n",
      "HEALTH_AND_FITNESS : 3.08\n",
      "PHOTOGRAPHY : 2.94\n",
      "NEWS_AND_MAGAZINES : 2.8\n",
      "SOCIAL : 2.66\n",
      "TRAVEL_AND_LOCAL : 2.34\n",
      "SHOPPING : 2.25\n",
      "BOOKS_AND_REFERENCE : 2.14\n",
      "DATING : 1.86\n",
      "VIDEO_PLAYERS : 1.79\n",
      "MAPS_AND_NAVIGATION : 1.4\n",
      "FOOD_AND_DRINK : 1.24\n",
      "EDUCATION : 1.16\n",
      "ENTERTAINMENT : 0.96\n",
      "LIBRARIES_AND_DEMO : 0.94\n",
      "AUTO_AND_VEHICLES : 0.93\n",
      "HOUSE_AND_HOME : 0.82\n",
      "WEATHER : 0.8\n",
      "EVENTS : 0.71\n",
      "PARENTING : 0.65\n",
      "ART_AND_DESIGN : 0.64\n",
      "COMICS : 0.62\n",
      "BEAUTY : 0.6\n"
     ]
    }
   ],
   "source": [
    "display_table(android_final,1) #Android Category"
   ]
  },
  {
   "cell_type": "markdown",
   "metadata": {},
   "source": [
    "At first glance, it seems that the Google Play market has a good mixture of apps designed for fun, and apps designed for pratical purposes (Family, Tool, Business, Lifestyle, Productivity, etc.). However, upon investigating the Family category, it appears that it is mostly games meants for kids. \n",
    "\n",
    "Even so, practical apps seem to have a better representation on Google Play compared to the App Store. "
   ]
  },
  {
   "cell_type": "code",
   "execution_count": 19,
   "metadata": {},
   "outputs": [
    {
     "name": "stdout",
     "output_type": "stream",
     "text": [
      "Tools : 8.45\n",
      "Entertainment : 6.07\n",
      "Education : 5.35\n",
      "Business : 4.59\n",
      "Productivity : 3.89\n",
      "Lifestyle : 3.89\n",
      "Finance : 3.7\n",
      "Medical : 3.53\n",
      "Sports : 3.46\n",
      "Personalization : 3.32\n",
      "Communication : 3.24\n",
      "Action : 3.1\n",
      "Health & Fitness : 3.08\n",
      "Photography : 2.94\n",
      "News & Magazines : 2.8\n",
      "Social : 2.66\n",
      "Travel & Local : 2.32\n",
      "Shopping : 2.25\n",
      "Books & Reference : 2.14\n",
      "Simulation : 2.04\n",
      "Dating : 1.86\n",
      "Arcade : 1.85\n",
      "Video Players & Editors : 1.77\n",
      "Casual : 1.76\n",
      "Maps & Navigation : 1.4\n",
      "Food & Drink : 1.24\n",
      "Puzzle : 1.13\n",
      "Racing : 0.99\n",
      "Role Playing : 0.94\n",
      "Libraries & Demo : 0.94\n",
      "Auto & Vehicles : 0.93\n",
      "Strategy : 0.91\n",
      "House & Home : 0.82\n",
      "Weather : 0.8\n",
      "Events : 0.71\n",
      "Adventure : 0.68\n",
      "Comics : 0.61\n",
      "Beauty : 0.6\n",
      "Art & Design : 0.6\n",
      "Parenting : 0.5\n",
      "Card : 0.45\n",
      "Casino : 0.43\n",
      "Trivia : 0.42\n",
      "Educational;Education : 0.39\n",
      "Board : 0.38\n",
      "Educational : 0.37\n",
      "Education;Education : 0.34\n",
      "Word : 0.26\n",
      "Casual;Pretend Play : 0.24\n",
      "Music : 0.2\n",
      "Racing;Action & Adventure : 0.17\n",
      "Puzzle;Brain Games : 0.17\n",
      "Entertainment;Music & Video : 0.17\n",
      "Casual;Brain Games : 0.14\n",
      "Casual;Action & Adventure : 0.14\n",
      "Arcade;Action & Adventure : 0.12\n",
      "Action;Action & Adventure : 0.1\n",
      "Educational;Pretend Play : 0.09\n",
      "Simulation;Action & Adventure : 0.08\n",
      "Parenting;Education : 0.08\n",
      "Entertainment;Brain Games : 0.08\n",
      "Board;Brain Games : 0.08\n",
      "Parenting;Music & Video : 0.07\n",
      "Educational;Brain Games : 0.07\n",
      "Casual;Creativity : 0.07\n",
      "Art & Design;Creativity : 0.07\n",
      "Education;Pretend Play : 0.06\n",
      "Role Playing;Pretend Play : 0.05\n",
      "Education;Creativity : 0.05\n",
      "Role Playing;Action & Adventure : 0.03\n",
      "Puzzle;Action & Adventure : 0.03\n",
      "Entertainment;Creativity : 0.03\n",
      "Entertainment;Action & Adventure : 0.03\n",
      "Educational;Creativity : 0.03\n",
      "Educational;Action & Adventure : 0.03\n",
      "Education;Music & Video : 0.03\n",
      "Education;Brain Games : 0.03\n",
      "Education;Action & Adventure : 0.03\n",
      "Adventure;Action & Adventure : 0.03\n",
      "Video Players & Editors;Music & Video : 0.02\n",
      "Sports;Action & Adventure : 0.02\n",
      "Simulation;Pretend Play : 0.02\n",
      "Puzzle;Creativity : 0.02\n",
      "Music;Music & Video : 0.02\n",
      "Entertainment;Pretend Play : 0.02\n",
      "Casual;Education : 0.02\n",
      "Board;Action & Adventure : 0.02\n",
      "Video Players & Editors;Creativity : 0.01\n",
      "Trivia;Education : 0.01\n",
      "Travel & Local;Action & Adventure : 0.01\n",
      "Tools;Education : 0.01\n",
      "Strategy;Education : 0.01\n",
      "Strategy;Creativity : 0.01\n",
      "Strategy;Action & Adventure : 0.01\n",
      "Simulation;Education : 0.01\n",
      "Role Playing;Brain Games : 0.01\n",
      "Racing;Pretend Play : 0.01\n",
      "Puzzle;Education : 0.01\n",
      "Parenting;Brain Games : 0.01\n",
      "Music & Audio;Music & Video : 0.01\n",
      "Lifestyle;Pretend Play : 0.01\n",
      "Lifestyle;Education : 0.01\n",
      "Health & Fitness;Education : 0.01\n",
      "Health & Fitness;Action & Adventure : 0.01\n",
      "Entertainment;Education : 0.01\n",
      "Communication;Creativity : 0.01\n",
      "Comics;Creativity : 0.01\n",
      "Casual;Music & Video : 0.01\n",
      "Card;Action & Adventure : 0.01\n",
      "Books & Reference;Education : 0.01\n",
      "Art & Design;Pretend Play : 0.01\n",
      "Art & Design;Action & Adventure : 0.01\n",
      "Arcade;Pretend Play : 0.01\n",
      "Adventure;Education : 0.01\n"
     ]
    }
   ],
   "source": [
    "display_table(android_final,9) #Android Genre"
   ]
  },
  {
   "cell_type": "markdown",
   "metadata": {},
   "source": [
    "The idea that Google Play has a good representation of both fun apps, and apps designed for practical purposes, is further supported by the frequency table above for the `Genres` column. \n",
    "\n",
    "The ```Genres``` column in the Google Play dataset seems to be more granular in detail as opposed to the `Category` column. Since we are more interested in the bigger picture, we will continue our analysis using the `Category` column going forward. \n",
    "\n",
    "Thus far in our analysis, we found that the App Store is dominated by apps designed for fun, while Google Play shows a more balanced landscape of both practical and for-fun apps. However, like we stated before, we are unsure if the more a type of app is offered, the higher its demand will be. To clarify this uncertainty, let us get an idea about the kind of apps that have the most users."
   ]
  },
  {
   "cell_type": "markdown",
   "metadata": {},
   "source": [
    "### Step 6: Most popular apps (user ratings) by Genre on the App Store\n",
    "\n",
    "One way to find out what genres are the most popular (have the most users) is to calculate the average number of installs for each app genre. For the Google Play dataset, this information can be found under the `Installs` column. But this information is absent in the App Store dataset. As a suitable substitution, we will approximate the total number of installs for an app with the total number of user ratings found in the `rating_count_tot` column.\n"
   ]
  },
  {
   "cell_type": "code",
   "execution_count": 20,
   "metadata": {},
   "outputs": [
    {
     "name": "stdout",
     "output_type": "stream",
     "text": [
      "Social Networking : 71548.35\n",
      "Photo & Video : 28441.54\n",
      "Games : 22788.67\n",
      "Music : 57326.53\n",
      "Reference : 74942.11\n",
      "Health & Fitness : 23298.02\n",
      "Weather : 52279.89\n",
      "Utilities : 18684.46\n",
      "Travel : 28243.8\n",
      "Shopping : 26919.69\n",
      "News : 21248.02\n",
      "Navigation : 86090.33\n",
      "Lifestyle : 16485.76\n",
      "Entertainment : 14029.83\n",
      "Food & Drink : 33333.92\n",
      "Sports : 23008.9\n",
      "Book : 39758.5\n",
      "Finance : 31467.94\n",
      "Education : 7003.98\n",
      "Productivity : 21028.41\n",
      "Business : 7491.12\n",
      "Catalogs : 4004.0\n",
      "Medical : 612.0\n"
     ]
    }
   ],
   "source": [
    "ios_genres = freq_table(ios_final, -5)\n",
    "\n",
    "for genre in ios_genres:\n",
    "    total_ratings = 0\n",
    "    genre_count = 0\n",
    "    \n",
    "    for app in ios_final:\n",
    "        if app[-5] == genre:\n",
    "            no_of_ratings = float(app[5])\n",
    "            total_ratings = no_of_ratings + total_ratings\n",
    "            genre_count += 1\n",
    "    avg_no_of_ratings = round(total_ratings/genre_count,2)\n",
    "    print(genre,':', avg_no_of_ratings)"
   ]
  },
  {
   "cell_type": "markdown",
   "metadata": {},
   "source": [
    "It seems like our earlier suspicions were right. Though for fun apps still seem to dominate the App store, there is still significant demand for apps intended for practical use when looking at the data through user demand instead of the number of apps of that type being offered on the App Store. \n",
    "\n",
    "In the above code cell, we calculated the average number of ratings per app genre on the App Store. Navigation, Reference, Social Networking, and Music apps have among the highest averages of number of user reviews. Let us further investigate these genres. "
   ]
  },
  {
   "cell_type": "code",
   "execution_count": 21,
   "metadata": {},
   "outputs": [
    {
     "name": "stdout",
     "output_type": "stream",
     "text": [
      "Navigation genre\n",
      "Waze - GPS Navigation, Maps & Real-time Traffic : 345046\n",
      "Google Maps - Navigation & Transit : 154911\n",
      "Geocaching® : 12811\n",
      "CoPilot GPS – Car Navigation & Offline Maps : 3582\n",
      "ImmobilienScout24: Real Estate Search in Germany : 187\n",
      "Railway Route Search : 5\n",
      "\n",
      "\n",
      "Social Networking genre\n",
      "Facebook : 2974676\n",
      "Pinterest : 1061624\n",
      "Skype for iPhone : 373519\n",
      "Messenger : 351466\n",
      "Tumblr : 334293\n",
      "WhatsApp Messenger : 287589\n",
      "Kik : 260965\n",
      "ooVoo – Free Video Call, Text and Voice : 177501\n",
      "TextNow - Unlimited Text + Calls : 164963\n",
      "Viber Messenger – Text & Call : 164249\n",
      "Followers - Social Analytics For Instagram : 112778\n",
      "MeetMe - Chat and Meet New People : 97072\n",
      "We Heart It - Fashion, wallpapers, quotes, tattoos : 90414\n",
      "InsTrack for Instagram - Analytics Plus More : 85535\n",
      "Tango - Free Video Call, Voice and Chat : 75412\n",
      "LinkedIn : 71856\n",
      "Match™ - #1 Dating App. : 60659\n",
      "Skype for iPad : 60163\n",
      "POF - Best Dating App for Conversations : 52642\n",
      "Timehop : 49510\n",
      "Find My Family, Friends & iPhone - Life360 Locator : 43877\n",
      "Whisper - Share, Express, Meet : 39819\n",
      "Hangouts : 36404\n",
      "LINE PLAY - Your Avatar World : 34677\n",
      "WeChat : 34584\n",
      "Badoo - Meet New People, Chat, Socialize. : 34428\n",
      "Followers + for Instagram - Follower Analytics : 28633\n",
      "GroupMe : 28260\n",
      "Marco Polo Video Walkie Talkie : 27662\n",
      "Miitomo : 23965\n",
      "SimSimi : 23530\n",
      "Grindr - Gay and same sex guys chat, meet and date : 23201\n",
      "Wishbone - Compare Anything : 20649\n",
      "imo video calls and chat : 18841\n",
      "After School - Funny Anonymous School News : 18482\n",
      "Quick Reposter - Repost, Regram and Reshare Photos : 17694\n",
      "Weibo HD : 16772\n",
      "Repost for Instagram : 15185\n",
      "Live.me – Live Video Chat & Make Friends Nearby : 14724\n",
      "Nextdoor : 14402\n",
      "Followers Analytics for Instagram - InstaReport : 13914\n",
      "YouNow: Live Stream Video Chat : 12079\n",
      "FollowMeter for Instagram - Followers Tracking : 11976\n",
      "LINE : 11437\n",
      "eHarmony™ Dating App - Meet Singles : 11124\n",
      "Discord - Chat for Gamers : 9152\n",
      "QQ : 9109\n",
      "Telegram Messenger : 7573\n",
      "Weibo : 7265\n",
      "Periscope - Live Video Streaming Around the World : 6062\n",
      "Chat for Whatsapp - iPad Version : 5060\n",
      "QQ HD : 5058\n",
      "Followers Analysis Tool For Instagram App Free : 4253\n",
      "live.ly - live video streaming : 4145\n",
      "Houseparty - Group Video Chat : 3991\n",
      "SOMA Messenger : 3232\n",
      "Monkey : 3060\n",
      "Down To Lunch : 2535\n",
      "Flinch - Video Chat Staring Contest : 2134\n",
      "Highrise - Your Avatar Community : 2011\n",
      "LOVOO - Dating Chat : 1985\n",
      "PlayStation®Messages : 1918\n",
      "BOO! - Video chat camera with filters & stickers : 1805\n",
      "Qzone : 1649\n",
      "Chatous - Chat with new people : 1609\n",
      "Kiwi - Q&A : 1538\n",
      "GhostCodes - a discovery app for Snapchat : 1313\n",
      "Jodel : 1193\n",
      "FireChat : 1037\n",
      "Google Duo - simple video calling : 1033\n",
      "Fiesta by Tango - Chat & Meet New People : 885\n",
      "Google Allo — smart messaging : 862\n",
      "Peach — share vividly : 727\n",
      "Hey! VINA - Where Women Meet New Friends : 719\n",
      "Battlefield™ Companion : 689\n",
      "All Devices for WhatsApp - Messenger for iPad : 682\n",
      "Chat for Pokemon Go - GoChat : 500\n",
      "IAmNaughty – Dating App to Meet New People Online : 463\n",
      "Qzone HD : 458\n",
      "Zenly - Locate your friends in realtime : 427\n",
      "League of Legends Friends : 420\n",
      "豆瓣 : 407\n",
      "Candid - Speak Your Mind Freely : 398\n",
      "知乎 : 397\n",
      "Selfeo : 366\n",
      "Fake-A-Location Free ™ : 354\n",
      "Popcorn Buzz - Free Group Calls : 281\n",
      "Fam — Group video calling for iMessage : 279\n",
      "QQ International : 274\n",
      "Ameba : 269\n",
      "SoundCloud Pulse: for creators : 240\n",
      "Tantan : 235\n",
      "Cougar Dating & Life Style App for Mature Women : 213\n",
      "Rawr Messenger - Dab your chat : 180\n",
      "WhenToPost: Best Time to Post Photos for Instagram : 158\n",
      "Inke—Broadcast an amazing life : 147\n",
      "Mustknow - anonymous video Q&A : 53\n",
      "CTFxCmoji : 39\n",
      "Lobi : 36\n",
      "Chain: Collaborate On MyVideo Story/Group Video : 35\n",
      "botman - Real time video chat : 7\n",
      "BestieBox : 0\n",
      "MATCH ON LINE chat : 0\n",
      "niconico ch : 0\n",
      "LINE BLOG : 0\n",
      "bit-tube - Live Stream Video Chat : 0\n",
      "\n",
      "\n",
      "Music genre\n",
      "Pandora - Music & Radio : 1126879\n",
      "Spotify Music : 878563\n",
      "Shazam - Discover music, artists, videos & lyrics : 402925\n",
      "iHeartRadio – Free Music & Radio Stations : 293228\n",
      "SoundCloud - Music & Audio : 135744\n",
      "Magic Piano by Smule : 131695\n",
      "Smule Sing! : 119316\n",
      "TuneIn Radio - MLB NBA Audiobooks Podcasts Music : 110420\n",
      "Amazon Music : 106235\n",
      "SoundHound Song Search & Music Player : 82602\n",
      "Sonos Controller : 48905\n",
      "Bandsintown Concerts : 30845\n",
      "Karaoke - Sing Karaoke, Unlimited Songs! : 28606\n",
      "My Mixtapez Music : 26286\n",
      "Sing Karaoke Songs Unlimited with StarMaker : 26227\n",
      "Ringtones for iPhone & Ringtone Maker : 25403\n",
      "Musi - Unlimited Music For YouTube : 25193\n",
      "AutoRap by Smule : 18202\n",
      "Spinrilla - Mixtapes For Free : 15053\n",
      "Napster - Top Music & Radio : 14268\n",
      "edjing Mix:DJ turntable to remix and scratch music : 13580\n",
      "Free Music - MP3 Streamer & Playlist Manager Pro : 13443\n",
      "Free Piano app by Yokee : 13016\n",
      "Google Play Music : 10118\n",
      "Certified Mixtapes - Hip Hop Albums & Mixtapes : 9975\n",
      "TIDAL : 7398\n",
      "YouTube Music : 7109\n",
      "Nicki Minaj: The Empire : 5196\n",
      "Sounds app - Music And Friends : 5126\n",
      "SongFlip - Free Music Streamer : 5004\n",
      "Simple Radio - Live AM & FM Radio Stations : 4787\n",
      "Deezer - Listen to your Favorite Music & Playlists : 4677\n",
      "Ringtones for iPhone with Ringtone Maker : 4013\n",
      "Bose SoundTouch : 3687\n",
      "Amazon Alexa : 3018\n",
      "DatPiff : 2815\n",
      "Trebel Music - Unlimited Music Downloader : 2570\n",
      "Free Music Play - Mp3 Streamer & Player : 2496\n",
      "Acapella from PicPlayPost : 2487\n",
      "Coach Guitar - Lessons & Easy Tabs For Beginners : 2416\n",
      "Musicloud - MP3 and FLAC Music Player for Cloud Platforms. : 2211\n",
      "Piano - Play Keyboard Music Games with Magic Tiles : 1636\n",
      "Boom: Best Equalizer & Magical Surround Sound : 1375\n",
      "Music Freedom - Unlimited Free MP3 Music Streaming : 1246\n",
      "AmpMe - A Portable Social Party Music Speaker : 1047\n",
      "Medly - Music Maker : 933\n",
      "Bose Connect : 915\n",
      "Music Memos : 909\n",
      "UE BOOM : 612\n",
      "LiveMixtapes : 555\n",
      "NOISE : 355\n",
      "MP3 Music Player & Streamer for Clouds : 329\n",
      "Musical Video Maker - Create Music clips lip sync : 320\n",
      "Cloud Music Player - Downloader & Playlist Manager : 319\n",
      "Remixlive - Remix loops with pads : 288\n",
      "QQ音乐HD : 224\n",
      "Blocs Wave - Make & Record Music : 158\n",
      "PlayGround • Music At Your Fingertips : 150\n",
      "Music and Chill : 135\n",
      "The Singing Machine Mobile Karaoke App : 130\n",
      "radio.de - Der Radioplayer : 64\n",
      "Free Music -  Player & Streamer  for Dropbox, OneDrive & Google Drive : 46\n",
      "NRJ Radio : 38\n",
      "Smart Music: Streaming Videos and Radio : 17\n",
      "BOSS Tuner : 13\n",
      "PetitLyrics : 0\n",
      "\n",
      "\n",
      "Reference genre\n",
      "Bible : 985920\n",
      "Dictionary.com Dictionary & Thesaurus : 200047\n",
      "Dictionary.com Dictionary & Thesaurus for iPad : 54175\n",
      "Google Translate : 26786\n",
      "Muslim Pro: Ramadan 2017 Prayer Times, Azan, Quran : 18418\n",
      "New Furniture Mods - Pocket Wiki & Game Tools for Minecraft PC Edition : 17588\n",
      "Merriam-Webster Dictionary : 16849\n",
      "Night Sky : 12122\n",
      "City Maps for Minecraft PE - The Best Maps for Minecraft Pocket Edition (MCPE) : 8535\n",
      "LUCKY BLOCK MOD ™ for Minecraft PC Edition - The Best Pocket Wiki & Mods Installer Tools : 4693\n",
      "GUNS MODS for Minecraft PC Edition - Mods Tools : 1497\n",
      "Guides for Pokémon GO - Pokemon GO News and Cheats : 826\n",
      "WWDC : 762\n",
      "Horror Maps for Minecraft PE - Download The Scariest Maps for Minecraft Pocket Edition (MCPE) Free : 718\n",
      "VPN Express : 14\n",
      "Real Bike Traffic Rider Virtual Reality Glasses : 8\n",
      "教えて!goo : 0\n",
      "Jishokun-Japanese English Dictionary & Translator : 0\n"
     ]
    }
   ],
   "source": [
    "from notebook.services.config import ConfigManager\n",
    "cm = ConfigManager().update('notebook', {'limit_output': 5})\n",
    "\n",
    "print('Navigation genre')\n",
    "for app in ios_final:\n",
    "    if app[-5] == 'Navigation':        \n",
    "        print(app[1], \":\", app[5]) # Print name of app and number of ratings        \n",
    "        \n",
    "print('\\n')        \n",
    "        \n",
    "print('Social Networking genre')    \n",
    "for app in ios_final:\n",
    "    if app[-5] == 'Social Networking':\n",
    "        print(app[1], \":\", app[5]) # Print name of app and number of ratings\n",
    "        \n",
    "print('\\n')        \n",
    "        \n",
    "print('Music genre')    \n",
    "for app in ios_final:\n",
    "    if app[-5] == 'Music':\n",
    "        print(app[1], \":\", app[5]) # Print name of app and number of ratings\n",
    "        \n",
    "print('\\n')        \n",
    "        \n",
    "print('Reference genre')    \n",
    "for app in ios_final:\n",
    "    if app[-5] == 'Reference':\n",
    "        print(app[1], \":\", app[5]) # Print name of app and number of ratings\n",
    "        "
   ]
  },
  {
   "cell_type": "markdown",
   "metadata": {},
   "source": [
    "Navigation apps has the highest average number of user ratings but this figure is heavily influenced by two main companies, Waze and Google Maps. Likewise, for Social Networking apps, the average number of ratings is heavily influenced by a few companies like Facebook, Pinterest, and Skype. The same applies to Music apps where major players like Pandora, Spotify, and Shazam hold a majority of the demand. It seems that making an app for the three genres mentioned above may not prove to be such a good idea since we would most likely have to compete against giants like Facebook, Google Maps, and Pandora.\n",
    "\n",
    "Though a similar pattern appears in Reference apps, with big players like the Bible and Dictionary.com, there seems to be potential for a new app in the Reference genre market. One thing the company could do is offer different versions of the Bible, such as the King James Version, or New International Version. Another possibility is the company could turn the Quran into an app. In addition to these electronic versions of the Bible and the Quran, the app could also include different features such as daily quotes from the book, audio versions of the book, historical facts or original illustrations about pieces in the book, etc. Since Dictionary.com is a popular choice in the Reference genre, developers could also embed a dictionary, native to language version of the book, within the app which will allow users to look up the definitions of words while reading the book.\n",
    "\n",
    "Since the App Store is already saturated with apps intended for fun and entertainment, a pratical app may have some ground on the market to establish itself.\n",
    "\n",
    "Another genre that seems popular include weather. People generally do not spend much time checking the weather which would mean in generating little revenue from in-app advertisements. In addition, getting reliable second party data on live weather conditions may require our apps to connect to non-free API's. We could develop our own API's but modeling weather prediction is outside the scope of the company. \n",
    "\n",
    "For now, we will stick with our reccommendation. "
   ]
  },
  {
   "cell_type": "markdown",
   "metadata": {},
   "source": [
    "### Step 7: Most popular apps (user installations) by Genre on Google Play\n",
    "\n",
    "Now, we move on to analyzing the average number of installations by genre, which is identified by the `Category` column in our dataset. Before we start though, we need to address the open-ended values in the `Installs` column such as 100+, 1,000+, 5,000+, etc.. Since we are only interested in the big picture of which app genre attracts the most user, we will assume 100+ to mean 100 installs, 5,000+ to mean 5000 installs, and so on. \n"
   ]
  },
  {
   "cell_type": "code",
   "execution_count": 22,
   "metadata": {},
   "outputs": [
    {
     "name": "stdout",
     "output_type": "stream",
     "text": [
      "ART_AND_DESIGN : 1986335.09\n",
      "AUTO_AND_VEHICLES : 647317.82\n",
      "BEAUTY : 513151.89\n",
      "BOOKS_AND_REFERENCE : 8767811.89\n",
      "BUSINESS : 1712290.15\n",
      "COMICS : 817657.27\n",
      "COMMUNICATION : 38456119.17\n",
      "DATING : 854028.83\n",
      "EDUCATION : 1833495.15\n",
      "ENTERTAINMENT : 11640705.88\n",
      "EVENTS : 253542.22\n",
      "FINANCE : 1387692.48\n",
      "FOOD_AND_DRINK : 1924897.74\n",
      "HEALTH_AND_FITNESS : 4188821.99\n",
      "HOUSE_AND_HOME : 1331540.56\n",
      "LIBRARIES_AND_DEMO : 638503.73\n",
      "LIFESTYLE : 1437816.27\n",
      "GAME : 15588015.6\n",
      "FAMILY : 3695641.82\n",
      "MEDICAL : 120550.62\n",
      "SOCIAL : 23253652.13\n",
      "SHOPPING : 7036877.31\n",
      "PHOTOGRAPHY : 17840110.4\n",
      "SPORTS : 3638640.14\n",
      "TRAVEL_AND_LOCAL : 13984077.71\n",
      "TOOLS : 10801391.3\n",
      "PERSONALIZATION : 5201482.61\n",
      "PRODUCTIVITY : 16787331.34\n",
      "PARENTING : 542603.62\n",
      "WEATHER : 5074486.2\n",
      "VIDEO_PLAYERS : 24727872.45\n",
      "NEWS_AND_MAGAZINES : 9549178.47\n",
      "MAPS_AND_NAVIGATION : 4056941.77\n"
     ]
    }
   ],
   "source": [
    "android_category = freq_table(android_final, 1)\n",
    "\n",
    "for category in android_category:\n",
    "    total_installs = 0\n",
    "    category_count = 0\n",
    "    \n",
    "    for app in android_final:\n",
    "        if app[1] == category:\n",
    "            no_of_installs = app[5].replace('+','')\n",
    "            no_of_installs = no_of_installs.replace(',','')\n",
    "            total_installs = float(no_of_installs) + total_installs\n",
    "            category_count += 1\n",
    "    \n",
    "    avg_no_of_installs = round(total_installs/category_count,2)\n",
    "    print(category,':', avg_no_of_installs)"
   ]
  },
  {
   "cell_type": "markdown",
   "metadata": {},
   "source": [
    "Communication, Video Players, Photography, and Productivity apps have among the highest average number of user installations. Let us further investigate these app genres."
   ]
  },
  {
   "cell_type": "code",
   "execution_count": 23,
   "metadata": {},
   "outputs": [
    {
     "name": "stdout",
     "output_type": "stream",
     "text": [
      "Communications genre\n",
      "WhatsApp Messenger : 1,000,000,000+\n",
      "Messenger – Text and Video Chat for Free : 1,000,000,000+\n",
      "Skype - free IM & video calls : 1,000,000,000+\n",
      "Google Chrome: Fast & Secure : 1,000,000,000+\n",
      "Gmail : 1,000,000,000+\n",
      "Hangouts : 1,000,000,000+\n",
      "\n",
      "\n",
      "Video Players genre\n",
      "YouTube : 1,000,000,000+\n",
      "Google Play Movies & TV : 1,000,000,000+\n",
      "MX Player : 500,000,000+\n",
      "\n",
      "\n",
      "Photography genre\n",
      "B612 - Beauty & Filter Camera : 100,000,000+\n",
      "YouCam Makeup - Magic Selfie Makeovers : 100,000,000+\n",
      "Sweet Selfie - selfie camera, beauty cam, photo edit : 100,000,000+\n",
      "Google Photos : 1,000,000,000+\n",
      "Retrica : 100,000,000+\n",
      "Photo Editor Pro : 100,000,000+\n",
      "BeautyPlus - Easy Photo Editor & Selfie Camera : 100,000,000+\n",
      "PicsArt Photo Studio: Collage Maker & Pic Editor : 100,000,000+\n",
      "Photo Collage Editor : 100,000,000+\n",
      "Z Camera - Photo Editor, Beauty Selfie, Collage : 100,000,000+\n",
      "PhotoGrid: Video & Pic Collage Maker, Photo Editor : 100,000,000+\n",
      "Candy Camera - selfie, beauty camera, photo editor : 100,000,000+\n",
      "YouCam Perfect - Selfie Photo Editor : 100,000,000+\n",
      "Camera360: Selfie Photo Editor with Funny Sticker : 100,000,000+\n",
      "S Photo Editor - Collage Maker , Photo Collage : 100,000,000+\n",
      "AR effect : 100,000,000+\n",
      "Cymera Camera- Photo Editor, Filter,Collage,Layout : 100,000,000+\n",
      "LINE Camera - Photo editor : 100,000,000+\n",
      "Photo Editor Collage Maker Pro : 100,000,000+\n",
      "\n",
      "\n",
      "Productivity genre\n",
      "Microsoft Word : 500,000,000+\n",
      "Dropbox : 500,000,000+\n",
      "Google Drive : 1,000,000,000+\n",
      "Google Calendar : 500,000,000+\n",
      "Cloud Print : 500,000,000+\n"
     ]
    }
   ],
   "source": [
    "print('Communications genre')\n",
    "for app in android_final:\n",
    "    no_of_installs = app[5].replace('+','')\n",
    "    no_of_installs = no_of_installs.replace(',','')    \n",
    "    if (app[1] == 'COMMUNICATION' and float(no_of_installs)>500000000):\n",
    "        print(app[0], \":\", app[5]) # Print name of app and number of ratings\n",
    "\n",
    "print('\\n')\n",
    "\n",
    "print('Video Players genre')\n",
    "for app in android_final:\n",
    "    no_of_installs = app[5].replace('+','')\n",
    "    no_of_installs = no_of_installs.replace(',','')    \n",
    "    if (app[1] == 'VIDEO_PLAYERS' and float(no_of_installs)>100000000):\n",
    "        print(app[0], \":\", app[5]) # Print name of app and number of ratings\n",
    "\n",
    "print('\\n')\n",
    "\n",
    "print('Photography genre')\n",
    "for app in android_final:\n",
    "    no_of_installs = app[5].replace('+','')\n",
    "    no_of_installs = no_of_installs.replace(',','')    \n",
    "    if (app[1] == 'PHOTOGRAPHY' and float(no_of_installs)>50000000):\n",
    "        print(app[0], \":\", app[5]) # Print name of app and number of ratings\n",
    "\n",
    "print('\\n')\n",
    "\n",
    "print('Productivity genre')\n",
    "for app in android_final:\n",
    "    no_of_installs = app[5].replace('+','')\n",
    "    no_of_installs = no_of_installs.replace(',','')    \n",
    "    if (app[1] == 'PRODUCTIVITY' and float(no_of_installs)>100000000):\n",
    "        print(app[0], \":\", app[5]) # Print name of app and number of ratings\n",
    "        "
   ]
  },
  {
   "cell_type": "markdown",
   "metadata": {},
   "source": [
    "Once again, it appears that these app genres are mostly dominated by big name companies such as Facebook (Messenger), Google (Gmail, Youtube, Google Play Movies & TV, Google Photos, Google Play Books), and Microsoft. Like before, these genres seem more popular than they really are and we believe that competing against large companies like Google and Facebook may not be the best business strategy. \n",
    "\n",
    "The Photography genre seems viable but apps like these probably generate much of their revenue from in-app purchase while the company is accustomed to in-app advertisements as their source of revenue.\n",
    "\n",
    "The game genre also seems popular in Google Play, but as we have already established, the saturation of for-fun apps has already grown too large for us to establish ourselves over all the competition. \n",
    "\n",
    "Since we previously recommended developing an app for the Books and Reference genre, let us look further into this category. Our aim is to develop an app that will be profitable on both the App Store and Google Play after all. "
   ]
  },
  {
   "cell_type": "code",
   "execution_count": 24,
   "metadata": {},
   "outputs": [
    {
     "name": "stdout",
     "output_type": "stream",
     "text": [
      "Books and Reference genre\n",
      "Wikipedia : 10,000,000+\n",
      "Cool Reader : 10,000,000+\n",
      "Book store : 1,000,000+\n",
      "FBReader: Favorite Book Reader : 10,000,000+\n",
      "Free Books - Spirit Fanfiction and Stories : 1,000,000+\n",
      "Google Play Books : 1,000,000,000+\n",
      "AlReader -any text book reader : 5,000,000+\n",
      "FamilySearch Tree : 1,000,000+\n",
      "Cloud of Books : 1,000,000+\n",
      "ReadEra – free ebook reader : 1,000,000+\n",
      "Ebook Reader : 5,000,000+\n",
      "Read books online : 5,000,000+\n",
      "eBoox: book reader fb2 epub zip : 1,000,000+\n",
      "All Maths Formulas : 1,000,000+\n",
      "Ancestry : 5,000,000+\n",
      "HTC Help : 10,000,000+\n",
      "Moon+ Reader : 10,000,000+\n",
      "English-Myanmar Dictionary : 1,000,000+\n",
      "Golden Dictionary (EN-AR) : 1,000,000+\n",
      "All Language Translator Free : 1,000,000+\n",
      "Bible : 100,000,000+\n",
      "Amazon Kindle : 100,000,000+\n",
      "Aldiko Book Reader : 10,000,000+\n",
      "Wattpad 📖 Free Books : 100,000,000+\n",
      "Dictionary - WordWeb : 5,000,000+\n",
      "50000 Free eBooks & Free AudioBooks : 5,000,000+\n",
      "Al-Quran (Free) : 10,000,000+\n",
      "Al Quran Indonesia : 10,000,000+\n",
      "Al'Quran Bahasa Indonesia : 10,000,000+\n",
      "Al Quran Al karim : 1,000,000+\n",
      "Al Quran : EAlim - Translations & MP3 Offline : 5,000,000+\n",
      "Koran Read &MP3 30 Juz Offline : 1,000,000+\n",
      "Hafizi Quran 15 lines per page : 1,000,000+\n",
      "Quran for Android : 10,000,000+\n",
      "Satellite AR : 1,000,000+\n",
      "Audiobooks from Audible : 100,000,000+\n",
      "Oxford A-Z of English Usage : 1,000,000+\n",
      "Dictionary.com: Find Definitions for English Words : 10,000,000+\n",
      "English Dictionary - Offline : 10,000,000+\n",
      "Bible KJV : 5,000,000+\n",
      "NOOK: Read eBooks & Magazines : 10,000,000+\n",
      "Brilliant Quotes: Life, Love, Family & Motivation : 1,000,000+\n",
      "Stats Royale for Clash Royale : 1,000,000+\n",
      "Dictionary : 10,000,000+\n",
      "wikiHow: how to do anything : 1,000,000+\n",
      "EGW Writings : 1,000,000+\n",
      "My Little Pony AR Guide : 1,000,000+\n",
      "Spanish English Translator : 10,000,000+\n",
      "Dictionary - Merriam-Webster : 10,000,000+\n",
      "JW Library : 10,000,000+\n",
      "Oxford Dictionary of English : Free : 10,000,000+\n",
      "English Hindi Dictionary : 10,000,000+\n",
      "English to Hindi Dictionary : 5,000,000+\n"
     ]
    }
   ],
   "source": [
    "print('Books and Reference genre')\n",
    "for app in android_final:\n",
    "    no_of_installs = app[5].replace('+','')\n",
    "    no_of_installs = no_of_installs.replace(',','')    \n",
    "    if (app[1] == 'BOOKS_AND_REFERENCE' and float(no_of_installs)>500000):\n",
    "        print(app[0], \":\", app[5]) # Print name of app and number of ratings\n"
   ]
  },
  {
   "cell_type": "markdown",
   "metadata": {},
   "source": [
    "Electronic book libraries and dictionary apps seem to make up much of the Reference and Books genre. However, we once again notice the appearance of apps centered around popular books like the Bible, and the Quran. This further validates our previous recommendation — building an app around a popular book or its translation and including added in-app features like a built-in dictionary or an online discussion forum — to be a profitable business strategy. These extra features will help us stand out among the competition.  "
   ]
  },
  {
   "cell_type": "markdown",
   "metadata": {},
   "source": [
    "### Conclusions\n",
    "\n",
    "We analyzed data about mobile apps on the App Store and Google Play. The business goal was to recommend a profitable app profile the company could use to develop a free app intended for English Speakers, that would prove to be profitable on both the Android and iOS market.\n",
    "\n",
    "We concluded that taking a popular book, such as the Bible (King James Version or New International Version) or the Quran, and turning it into an app could be a viable bnusiness strategy. In order to help us stand out amond the competition, we could include add features in the app such as,\n",
    "* audio versions of the book.\n",
    "* built in dictionary.\n",
    "* daily quotes from the book.\n",
    "* an online discussion forum for the book.\n",
    "* original illustrations or artwork for piece from the book by independent artists.\n",
    "* historical or geographical facts based on the book.\n",
    "\n",
    "Not only could these extra features help us differentiate ourselves from the competition, they could also generate additional income by presenting themselves as in-app purchases to users. \n"
   ]
  }
 ],
 "metadata": {
  "kernelspec": {
   "display_name": "Python 3",
   "language": "python",
   "name": "python3"
  },
  "language_info": {
   "codemirror_mode": {
    "name": "ipython",
    "version": 3
   },
   "file_extension": ".py",
   "mimetype": "text/x-python",
   "name": "python",
   "nbconvert_exporter": "python",
   "pygments_lexer": "ipython3",
   "version": "3.8.5"
  }
 },
 "nbformat": 4,
 "nbformat_minor": 4
}
